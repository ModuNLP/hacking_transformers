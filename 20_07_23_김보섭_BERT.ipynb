{
 "cells": [
  {
   "cell_type": "markdown",
   "metadata": {},
   "source": [
    "# BERT\n",
    "`kcbert`를 기반으로 파악해보기\n",
    "- `kcbert`\n",
    "    - hugginface.co: https://huggingface.co/beomi/kcbert-base\n",
    "    - github: https://github.com/Beomi/KcBERT\n",
    "\n",
    "- `config.json`\n",
    "```json\n",
    "{\n",
    "max_position_embeddings: 300,\n",
    "hidden_dropout_prob: 0.1,\n",
    "pooler_size_per_head: 128,\n",
    "hidden_act: \"gelu\",\n",
    "initializer_range: 0.02,\n",
    "num_hidden_layers: 12,\n",
    "pooler_num_attention_heads: 12,\n",
    "type_vocab_size: 2,\n",
    "vocab_size: 30000,\n",
    "hidden_size: 768,\n",
    "attention_probs_dropout_prob: 0.1,\n",
    "directionality: \"bidi\",\n",
    "num_attention_heads: 12,\n",
    "pooler_fc_size: 768,\n",
    "pooler_type: \"first_token_transform\",\n",
    "pooler_num_fc_layers: 3,\n",
    "intermediate_size: 3072,\n",
    "architectures: [\n",
    "\"BertForMaskedLM\"\n",
    "],\n",
    "model_type: \"bert\"\n",
    "}\n",
    "```\n",
    "- `tokenizer_config.json`\n",
    "```json\n",
    "{\n",
    "do_lower_case: false,\n",
    "model_max_length: 300\n",
    "}\n",
    "```"
   ]
  },
  {
   "cell_type": "markdown",
   "metadata": {},
   "source": [
    "## loading BERT\n",
    "예시는 [KcBERT](https://github.com/Beomi/KcBERT)로 "
   ]
  },
  {
   "cell_type": "code",
   "execution_count": 14,
   "metadata": {},
   "outputs": [
    {
     "name": "stderr",
     "output_type": "stream",
     "text": [
      "/home/kbs/.pyenv/versions/3.7.7/envs/hacking_transformers/lib/python3.7/site-packages/transformers/modeling_auto.py:798: FutureWarning: The class `AutoModelWithLMHead` is deprecated and will be removed in a future version. Please use `AutoModelForCausalLM` for causal language models, `AutoModelForMaskedLM` for masked language models and `AutoModelForSeq2SeqLM` for encoder-decoder models.\n",
      "  FutureWarning,\n",
      "Some weights of the model checkpoint at beomi/kcbert-base were not used when initializing BertForMaskedLM: ['cls.seq_relationship.weight', 'cls.seq_relationship.bias']\n",
      "- This IS expected if you are initializing BertForMaskedLM from the checkpoint of a model trained on another task or with another architecture (e.g. initializing a BertForSequenceClassification model from a BertForPretraining model).\n",
      "- This IS NOT expected if you are initializing BertForMaskedLM from the checkpoint of a model that you expect to be exactly identical (initializing a BertForSequenceClassification model from a BertForSequenceClassification model).\n"
     ]
    }
   ],
   "source": [
    "from transformers import AutoTokenizer, AutoModelWithLMHead\n",
    "\n",
    "tokenizer = AutoTokenizer.from_pretrained(\"beomi/kcbert-base\")\n",
    "model = AutoModelWithLMHead.from_pretrained(\"beomi/kcbert-base\")"
   ]
  },
  {
   "cell_type": "code",
   "execution_count": 15,
   "metadata": {},
   "outputs": [
    {
     "data": {
      "text/plain": [
       "[['bert.embeddings.word_embeddings.weight', torch.Size([30000, 768])],\n",
       " ['bert.embeddings.position_embeddings.weight', torch.Size([300, 768])],\n",
       " ['bert.embeddings.token_type_embeddings.weight', torch.Size([2, 768])],\n",
       " ['bert.embeddings.LayerNorm.weight', torch.Size([768])],\n",
       " ['bert.embeddings.LayerNorm.bias', torch.Size([768])],\n",
       " ['bert.encoder.layer.0.attention.self.query.weight', torch.Size([768, 768])],\n",
       " ['bert.encoder.layer.0.attention.self.query.bias', torch.Size([768])],\n",
       " ['bert.encoder.layer.0.attention.self.key.weight', torch.Size([768, 768])],\n",
       " ['bert.encoder.layer.0.attention.self.key.bias', torch.Size([768])],\n",
       " ['bert.encoder.layer.0.attention.self.value.weight', torch.Size([768, 768])],\n",
       " ['bert.encoder.layer.0.attention.self.value.bias', torch.Size([768])],\n",
       " ['bert.encoder.layer.0.attention.output.dense.weight',\n",
       "  torch.Size([768, 768])],\n",
       " ['bert.encoder.layer.0.attention.output.dense.bias', torch.Size([768])],\n",
       " ['bert.encoder.layer.0.attention.output.LayerNorm.weight', torch.Size([768])],\n",
       " ['bert.encoder.layer.0.attention.output.LayerNorm.bias', torch.Size([768])],\n",
       " ['bert.encoder.layer.0.intermediate.dense.weight', torch.Size([3072, 768])],\n",
       " ['bert.encoder.layer.0.intermediate.dense.bias', torch.Size([3072])],\n",
       " ['bert.encoder.layer.0.output.dense.weight', torch.Size([768, 3072])],\n",
       " ['bert.encoder.layer.0.output.dense.bias', torch.Size([768])],\n",
       " ['bert.encoder.layer.0.output.LayerNorm.weight', torch.Size([768])],\n",
       " ['bert.encoder.layer.0.output.LayerNorm.bias', torch.Size([768])],\n",
       " ['bert.encoder.layer.1.attention.self.query.weight', torch.Size([768, 768])],\n",
       " ['bert.encoder.layer.1.attention.self.query.bias', torch.Size([768])],\n",
       " ['bert.encoder.layer.1.attention.self.key.weight', torch.Size([768, 768])],\n",
       " ['bert.encoder.layer.1.attention.self.key.bias', torch.Size([768])],\n",
       " ['bert.encoder.layer.1.attention.self.value.weight', torch.Size([768, 768])],\n",
       " ['bert.encoder.layer.1.attention.self.value.bias', torch.Size([768])],\n",
       " ['bert.encoder.layer.1.attention.output.dense.weight',\n",
       "  torch.Size([768, 768])],\n",
       " ['bert.encoder.layer.1.attention.output.dense.bias', torch.Size([768])],\n",
       " ['bert.encoder.layer.1.attention.output.LayerNorm.weight', torch.Size([768])],\n",
       " ['bert.encoder.layer.1.attention.output.LayerNorm.bias', torch.Size([768])],\n",
       " ['bert.encoder.layer.1.intermediate.dense.weight', torch.Size([3072, 768])],\n",
       " ['bert.encoder.layer.1.intermediate.dense.bias', torch.Size([3072])],\n",
       " ['bert.encoder.layer.1.output.dense.weight', torch.Size([768, 3072])],\n",
       " ['bert.encoder.layer.1.output.dense.bias', torch.Size([768])],\n",
       " ['bert.encoder.layer.1.output.LayerNorm.weight', torch.Size([768])],\n",
       " ['bert.encoder.layer.1.output.LayerNorm.bias', torch.Size([768])],\n",
       " ['bert.encoder.layer.2.attention.self.query.weight', torch.Size([768, 768])],\n",
       " ['bert.encoder.layer.2.attention.self.query.bias', torch.Size([768])],\n",
       " ['bert.encoder.layer.2.attention.self.key.weight', torch.Size([768, 768])],\n",
       " ['bert.encoder.layer.2.attention.self.key.bias', torch.Size([768])],\n",
       " ['bert.encoder.layer.2.attention.self.value.weight', torch.Size([768, 768])],\n",
       " ['bert.encoder.layer.2.attention.self.value.bias', torch.Size([768])],\n",
       " ['bert.encoder.layer.2.attention.output.dense.weight',\n",
       "  torch.Size([768, 768])],\n",
       " ['bert.encoder.layer.2.attention.output.dense.bias', torch.Size([768])],\n",
       " ['bert.encoder.layer.2.attention.output.LayerNorm.weight', torch.Size([768])],\n",
       " ['bert.encoder.layer.2.attention.output.LayerNorm.bias', torch.Size([768])],\n",
       " ['bert.encoder.layer.2.intermediate.dense.weight', torch.Size([3072, 768])],\n",
       " ['bert.encoder.layer.2.intermediate.dense.bias', torch.Size([3072])],\n",
       " ['bert.encoder.layer.2.output.dense.weight', torch.Size([768, 3072])],\n",
       " ['bert.encoder.layer.2.output.dense.bias', torch.Size([768])],\n",
       " ['bert.encoder.layer.2.output.LayerNorm.weight', torch.Size([768])],\n",
       " ['bert.encoder.layer.2.output.LayerNorm.bias', torch.Size([768])],\n",
       " ['bert.encoder.layer.3.attention.self.query.weight', torch.Size([768, 768])],\n",
       " ['bert.encoder.layer.3.attention.self.query.bias', torch.Size([768])],\n",
       " ['bert.encoder.layer.3.attention.self.key.weight', torch.Size([768, 768])],\n",
       " ['bert.encoder.layer.3.attention.self.key.bias', torch.Size([768])],\n",
       " ['bert.encoder.layer.3.attention.self.value.weight', torch.Size([768, 768])],\n",
       " ['bert.encoder.layer.3.attention.self.value.bias', torch.Size([768])],\n",
       " ['bert.encoder.layer.3.attention.output.dense.weight',\n",
       "  torch.Size([768, 768])],\n",
       " ['bert.encoder.layer.3.attention.output.dense.bias', torch.Size([768])],\n",
       " ['bert.encoder.layer.3.attention.output.LayerNorm.weight', torch.Size([768])],\n",
       " ['bert.encoder.layer.3.attention.output.LayerNorm.bias', torch.Size([768])],\n",
       " ['bert.encoder.layer.3.intermediate.dense.weight', torch.Size([3072, 768])],\n",
       " ['bert.encoder.layer.3.intermediate.dense.bias', torch.Size([3072])],\n",
       " ['bert.encoder.layer.3.output.dense.weight', torch.Size([768, 3072])],\n",
       " ['bert.encoder.layer.3.output.dense.bias', torch.Size([768])],\n",
       " ['bert.encoder.layer.3.output.LayerNorm.weight', torch.Size([768])],\n",
       " ['bert.encoder.layer.3.output.LayerNorm.bias', torch.Size([768])],\n",
       " ['bert.encoder.layer.4.attention.self.query.weight', torch.Size([768, 768])],\n",
       " ['bert.encoder.layer.4.attention.self.query.bias', torch.Size([768])],\n",
       " ['bert.encoder.layer.4.attention.self.key.weight', torch.Size([768, 768])],\n",
       " ['bert.encoder.layer.4.attention.self.key.bias', torch.Size([768])],\n",
       " ['bert.encoder.layer.4.attention.self.value.weight', torch.Size([768, 768])],\n",
       " ['bert.encoder.layer.4.attention.self.value.bias', torch.Size([768])],\n",
       " ['bert.encoder.layer.4.attention.output.dense.weight',\n",
       "  torch.Size([768, 768])],\n",
       " ['bert.encoder.layer.4.attention.output.dense.bias', torch.Size([768])],\n",
       " ['bert.encoder.layer.4.attention.output.LayerNorm.weight', torch.Size([768])],\n",
       " ['bert.encoder.layer.4.attention.output.LayerNorm.bias', torch.Size([768])],\n",
       " ['bert.encoder.layer.4.intermediate.dense.weight', torch.Size([3072, 768])],\n",
       " ['bert.encoder.layer.4.intermediate.dense.bias', torch.Size([3072])],\n",
       " ['bert.encoder.layer.4.output.dense.weight', torch.Size([768, 3072])],\n",
       " ['bert.encoder.layer.4.output.dense.bias', torch.Size([768])],\n",
       " ['bert.encoder.layer.4.output.LayerNorm.weight', torch.Size([768])],\n",
       " ['bert.encoder.layer.4.output.LayerNorm.bias', torch.Size([768])],\n",
       " ['bert.encoder.layer.5.attention.self.query.weight', torch.Size([768, 768])],\n",
       " ['bert.encoder.layer.5.attention.self.query.bias', torch.Size([768])],\n",
       " ['bert.encoder.layer.5.attention.self.key.weight', torch.Size([768, 768])],\n",
       " ['bert.encoder.layer.5.attention.self.key.bias', torch.Size([768])],\n",
       " ['bert.encoder.layer.5.attention.self.value.weight', torch.Size([768, 768])],\n",
       " ['bert.encoder.layer.5.attention.self.value.bias', torch.Size([768])],\n",
       " ['bert.encoder.layer.5.attention.output.dense.weight',\n",
       "  torch.Size([768, 768])],\n",
       " ['bert.encoder.layer.5.attention.output.dense.bias', torch.Size([768])],\n",
       " ['bert.encoder.layer.5.attention.output.LayerNorm.weight', torch.Size([768])],\n",
       " ['bert.encoder.layer.5.attention.output.LayerNorm.bias', torch.Size([768])],\n",
       " ['bert.encoder.layer.5.intermediate.dense.weight', torch.Size([3072, 768])],\n",
       " ['bert.encoder.layer.5.intermediate.dense.bias', torch.Size([3072])],\n",
       " ['bert.encoder.layer.5.output.dense.weight', torch.Size([768, 3072])],\n",
       " ['bert.encoder.layer.5.output.dense.bias', torch.Size([768])],\n",
       " ['bert.encoder.layer.5.output.LayerNorm.weight', torch.Size([768])],\n",
       " ['bert.encoder.layer.5.output.LayerNorm.bias', torch.Size([768])],\n",
       " ['bert.encoder.layer.6.attention.self.query.weight', torch.Size([768, 768])],\n",
       " ['bert.encoder.layer.6.attention.self.query.bias', torch.Size([768])],\n",
       " ['bert.encoder.layer.6.attention.self.key.weight', torch.Size([768, 768])],\n",
       " ['bert.encoder.layer.6.attention.self.key.bias', torch.Size([768])],\n",
       " ['bert.encoder.layer.6.attention.self.value.weight', torch.Size([768, 768])],\n",
       " ['bert.encoder.layer.6.attention.self.value.bias', torch.Size([768])],\n",
       " ['bert.encoder.layer.6.attention.output.dense.weight',\n",
       "  torch.Size([768, 768])],\n",
       " ['bert.encoder.layer.6.attention.output.dense.bias', torch.Size([768])],\n",
       " ['bert.encoder.layer.6.attention.output.LayerNorm.weight', torch.Size([768])],\n",
       " ['bert.encoder.layer.6.attention.output.LayerNorm.bias', torch.Size([768])],\n",
       " ['bert.encoder.layer.6.intermediate.dense.weight', torch.Size([3072, 768])],\n",
       " ['bert.encoder.layer.6.intermediate.dense.bias', torch.Size([3072])],\n",
       " ['bert.encoder.layer.6.output.dense.weight', torch.Size([768, 3072])],\n",
       " ['bert.encoder.layer.6.output.dense.bias', torch.Size([768])],\n",
       " ['bert.encoder.layer.6.output.LayerNorm.weight', torch.Size([768])],\n",
       " ['bert.encoder.layer.6.output.LayerNorm.bias', torch.Size([768])],\n",
       " ['bert.encoder.layer.7.attention.self.query.weight', torch.Size([768, 768])],\n",
       " ['bert.encoder.layer.7.attention.self.query.bias', torch.Size([768])],\n",
       " ['bert.encoder.layer.7.attention.self.key.weight', torch.Size([768, 768])],\n",
       " ['bert.encoder.layer.7.attention.self.key.bias', torch.Size([768])],\n",
       " ['bert.encoder.layer.7.attention.self.value.weight', torch.Size([768, 768])],\n",
       " ['bert.encoder.layer.7.attention.self.value.bias', torch.Size([768])],\n",
       " ['bert.encoder.layer.7.attention.output.dense.weight',\n",
       "  torch.Size([768, 768])],\n",
       " ['bert.encoder.layer.7.attention.output.dense.bias', torch.Size([768])],\n",
       " ['bert.encoder.layer.7.attention.output.LayerNorm.weight', torch.Size([768])],\n",
       " ['bert.encoder.layer.7.attention.output.LayerNorm.bias', torch.Size([768])],\n",
       " ['bert.encoder.layer.7.intermediate.dense.weight', torch.Size([3072, 768])],\n",
       " ['bert.encoder.layer.7.intermediate.dense.bias', torch.Size([3072])],\n",
       " ['bert.encoder.layer.7.output.dense.weight', torch.Size([768, 3072])],\n",
       " ['bert.encoder.layer.7.output.dense.bias', torch.Size([768])],\n",
       " ['bert.encoder.layer.7.output.LayerNorm.weight', torch.Size([768])],\n",
       " ['bert.encoder.layer.7.output.LayerNorm.bias', torch.Size([768])],\n",
       " ['bert.encoder.layer.8.attention.self.query.weight', torch.Size([768, 768])],\n",
       " ['bert.encoder.layer.8.attention.self.query.bias', torch.Size([768])],\n",
       " ['bert.encoder.layer.8.attention.self.key.weight', torch.Size([768, 768])],\n",
       " ['bert.encoder.layer.8.attention.self.key.bias', torch.Size([768])],\n",
       " ['bert.encoder.layer.8.attention.self.value.weight', torch.Size([768, 768])],\n",
       " ['bert.encoder.layer.8.attention.self.value.bias', torch.Size([768])],\n",
       " ['bert.encoder.layer.8.attention.output.dense.weight',\n",
       "  torch.Size([768, 768])],\n",
       " ['bert.encoder.layer.8.attention.output.dense.bias', torch.Size([768])],\n",
       " ['bert.encoder.layer.8.attention.output.LayerNorm.weight', torch.Size([768])],\n",
       " ['bert.encoder.layer.8.attention.output.LayerNorm.bias', torch.Size([768])],\n",
       " ['bert.encoder.layer.8.intermediate.dense.weight', torch.Size([3072, 768])],\n",
       " ['bert.encoder.layer.8.intermediate.dense.bias', torch.Size([3072])],\n",
       " ['bert.encoder.layer.8.output.dense.weight', torch.Size([768, 3072])],\n",
       " ['bert.encoder.layer.8.output.dense.bias', torch.Size([768])],\n",
       " ['bert.encoder.layer.8.output.LayerNorm.weight', torch.Size([768])],\n",
       " ['bert.encoder.layer.8.output.LayerNorm.bias', torch.Size([768])],\n",
       " ['bert.encoder.layer.9.attention.self.query.weight', torch.Size([768, 768])],\n",
       " ['bert.encoder.layer.9.attention.self.query.bias', torch.Size([768])],\n",
       " ['bert.encoder.layer.9.attention.self.key.weight', torch.Size([768, 768])],\n",
       " ['bert.encoder.layer.9.attention.self.key.bias', torch.Size([768])],\n",
       " ['bert.encoder.layer.9.attention.self.value.weight', torch.Size([768, 768])],\n",
       " ['bert.encoder.layer.9.attention.self.value.bias', torch.Size([768])],\n",
       " ['bert.encoder.layer.9.attention.output.dense.weight',\n",
       "  torch.Size([768, 768])],\n",
       " ['bert.encoder.layer.9.attention.output.dense.bias', torch.Size([768])],\n",
       " ['bert.encoder.layer.9.attention.output.LayerNorm.weight', torch.Size([768])],\n",
       " ['bert.encoder.layer.9.attention.output.LayerNorm.bias', torch.Size([768])],\n",
       " ['bert.encoder.layer.9.intermediate.dense.weight', torch.Size([3072, 768])],\n",
       " ['bert.encoder.layer.9.intermediate.dense.bias', torch.Size([3072])],\n",
       " ['bert.encoder.layer.9.output.dense.weight', torch.Size([768, 3072])],\n",
       " ['bert.encoder.layer.9.output.dense.bias', torch.Size([768])],\n",
       " ['bert.encoder.layer.9.output.LayerNorm.weight', torch.Size([768])],\n",
       " ['bert.encoder.layer.9.output.LayerNorm.bias', torch.Size([768])],\n",
       " ['bert.encoder.layer.10.attention.self.query.weight', torch.Size([768, 768])],\n",
       " ['bert.encoder.layer.10.attention.self.query.bias', torch.Size([768])],\n",
       " ['bert.encoder.layer.10.attention.self.key.weight', torch.Size([768, 768])],\n",
       " ['bert.encoder.layer.10.attention.self.key.bias', torch.Size([768])],\n",
       " ['bert.encoder.layer.10.attention.self.value.weight', torch.Size([768, 768])],\n",
       " ['bert.encoder.layer.10.attention.self.value.bias', torch.Size([768])],\n",
       " ['bert.encoder.layer.10.attention.output.dense.weight',\n",
       "  torch.Size([768, 768])],\n",
       " ['bert.encoder.layer.10.attention.output.dense.bias', torch.Size([768])],\n",
       " ['bert.encoder.layer.10.attention.output.LayerNorm.weight',\n",
       "  torch.Size([768])],\n",
       " ['bert.encoder.layer.10.attention.output.LayerNorm.bias', torch.Size([768])],\n",
       " ['bert.encoder.layer.10.intermediate.dense.weight', torch.Size([3072, 768])],\n",
       " ['bert.encoder.layer.10.intermediate.dense.bias', torch.Size([3072])],\n",
       " ['bert.encoder.layer.10.output.dense.weight', torch.Size([768, 3072])],\n",
       " ['bert.encoder.layer.10.output.dense.bias', torch.Size([768])],\n",
       " ['bert.encoder.layer.10.output.LayerNorm.weight', torch.Size([768])],\n",
       " ['bert.encoder.layer.10.output.LayerNorm.bias', torch.Size([768])],\n",
       " ['bert.encoder.layer.11.attention.self.query.weight', torch.Size([768, 768])],\n",
       " ['bert.encoder.layer.11.attention.self.query.bias', torch.Size([768])],\n",
       " ['bert.encoder.layer.11.attention.self.key.weight', torch.Size([768, 768])],\n",
       " ['bert.encoder.layer.11.attention.self.key.bias', torch.Size([768])],\n",
       " ['bert.encoder.layer.11.attention.self.value.weight', torch.Size([768, 768])],\n",
       " ['bert.encoder.layer.11.attention.self.value.bias', torch.Size([768])],\n",
       " ['bert.encoder.layer.11.attention.output.dense.weight',\n",
       "  torch.Size([768, 768])],\n",
       " ['bert.encoder.layer.11.attention.output.dense.bias', torch.Size([768])],\n",
       " ['bert.encoder.layer.11.attention.output.LayerNorm.weight',\n",
       "  torch.Size([768])],\n",
       " ['bert.encoder.layer.11.attention.output.LayerNorm.bias', torch.Size([768])],\n",
       " ['bert.encoder.layer.11.intermediate.dense.weight', torch.Size([3072, 768])],\n",
       " ['bert.encoder.layer.11.intermediate.dense.bias', torch.Size([3072])],\n",
       " ['bert.encoder.layer.11.output.dense.weight', torch.Size([768, 3072])],\n",
       " ['bert.encoder.layer.11.output.dense.bias', torch.Size([768])],\n",
       " ['bert.encoder.layer.11.output.LayerNorm.weight', torch.Size([768])],\n",
       " ['bert.encoder.layer.11.output.LayerNorm.bias', torch.Size([768])],\n",
       " ['bert.pooler.dense.weight', torch.Size([768, 768])],\n",
       " ['bert.pooler.dense.bias', torch.Size([768])],\n",
       " ['cls.predictions.bias', torch.Size([30000])],\n",
       " ['cls.predictions.transform.dense.weight', torch.Size([768, 768])],\n",
       " ['cls.predictions.transform.dense.bias', torch.Size([768])],\n",
       " ['cls.predictions.transform.LayerNorm.weight', torch.Size([768])],\n",
       " ['cls.predictions.transform.LayerNorm.bias', torch.Size([768])]]"
      ]
     },
     "execution_count": 15,
     "metadata": {},
     "output_type": "execute_result"
    }
   ],
   "source": [
    "# ops 별 이름과 ops를 구성하는 weight의 dimension을 확인\n",
    "[[ops[0], ops[1].size()] for ops in model.named_parameters()]"
   ]
  },
  {
   "cell_type": "markdown",
   "metadata": {},
   "source": [
    "## tokenizer"
   ]
  },
  {
   "cell_type": "code",
   "execution_count": 73,
   "metadata": {},
   "outputs": [
    {
     "name": "stdout",
     "output_type": "stream",
     "text": [
      "max_len=300\n",
      "do_basic_tokenize=True\n",
      "안녕하세요, 반갑습니다.\n"
     ]
    }
   ],
   "source": [
    "print(f\"max_len={tokenizer.max_len}\")\n",
    "print(f\"do_basic_tokenize={tokenizer.do_basic_tokenize}\")\n",
    "\n",
    "example_0 = \"안녕하세요, 반갑습니다.\"\n",
    "print(example_0)"
   ]
  },
  {
   "cell_type": "code",
   "execution_count": 91,
   "metadata": {},
   "outputs": [
    {
     "name": "stdout",
     "output_type": "stream",
     "text": [
      "[['안녕', '##하세요'], [','], ['반', '##갑', '##습니다'], ['.']]\n",
      "['안녕', '##하세요', '.', '반', '##갑', '##습니다', '.']\n"
     ]
    }
   ],
   "source": [
    "tokenized_by_basic =tokenizer.basic_tokenizer.tokenize(cleaned)\n",
    "print([(tokenizer.wordpiece_tokenizer.tokenize(token)) for token in tokenized_by_basic])\n",
    "print(tokenizer.tokenize(\"안녕하세요. 반갑습니다.\"))"
   ]
  },
  {
   "cell_type": "code",
   "execution_count": 85,
   "metadata": {},
   "outputs": [
    {
     "ename": "AttributeError",
     "evalue": "'list' object has no attribute 'get'",
     "output_type": "error",
     "traceback": [
      "\u001b[0;31m---------------------------------------------------------------------------\u001b[0m",
      "\u001b[0;31mAttributeError\u001b[0m                            Traceback (most recent call last)",
      "\u001b[0;32m<ipython-input-85-14c7a7592355>\u001b[0m in \u001b[0;36m<module>\u001b[0;34m\u001b[0m\n\u001b[0;32m----> 1\u001b[0;31m \u001b[0mtokenizer\u001b[0m\u001b[0;34m.\u001b[0m\u001b[0mall_special_tokens_extended\u001b[0m\u001b[0;34m.\u001b[0m\u001b[0mget\u001b[0m\u001b[0;34m(\u001b[0m\u001b[0;34m)\u001b[0m\u001b[0;34m\u001b[0m\u001b[0;34m\u001b[0m\u001b[0m\n\u001b[0m",
      "\u001b[0;31mAttributeError\u001b[0m: 'list' object has no attribute 'get'"
     ]
    }
   ],
   "source": [
    "tokenizer.all_special_tokens_extended.get()"
   ]
  },
  {
   "cell_type": "code",
   "execution_count": 82,
   "metadata": {},
   "outputs": [
    {
     "data": {
      "text/plain": [
       "('안녕하세요, 반갑습니다.', {})"
      ]
     },
     "execution_count": 82,
     "metadata": {},
     "output_type": "execute_result"
    }
   ],
   "source": [
    "tokenizer.prepare_for_tokenization(cleaned)"
   ]
  },
  {
   "cell_type": "code",
   "execution_count": 53,
   "metadata": {},
   "outputs": [
    {
     "name": "stdout",
     "output_type": "stream",
     "text": [
      "tokenized=['모두', '##연', '자연', '##어', '##처리', '##랩', '##에', '오신', '것을', '환영합니다', '.']\n",
      "tokenized2indices=[8248, 4132, 10459, 4071, 11385, 5116, 4113, 28914, 9153, 29502, 17]\n",
      "encoded=[2, 8248, 4132, 10459, 4071, 11385, 5116, 4113, 28914, 9153, 29502, 17, 3]\n",
      "['[CLS]', '모두', '##연', '자연', '##어', '##처리', '##랩', '##에', '오신', '것을', '환영합니다', '.', '[SEP]']\n",
      "decoded=[CLS] 모두연 자연어처리랩에 오신 것을 환영합니다. [SEP]\n"
     ]
    }
   ],
   "source": [
    "example_text = \"모두연 자연어처리랩에 오신 것을 환영합니다.\"\n",
    "tokenized = tokenizer.tokenize(example_text)\n",
    "tokenized2indices = tokenizer.convert_tokens_to_ids(tokenized)\n",
    "encoded = tokenizer.encode(example_text)\n",
    "decoded = tokenizer.decode(encoded)\n",
    "print(f\"tokenized={tokenized}\")\n",
    "print(f\"tokenized2indices={tokenized2indices}\")\n",
    "print(f\"encoded={encoded}\")\n",
    "print(tokenizer.convert_ids_to_tokens(encoded))\n",
    "print(f\"decoded={decoded}\")"
   ]
  },
  {
   "cell_type": "code",
   "execution_count": 54,
   "metadata": {},
   "outputs": [
    {
     "data": {
      "text/plain": [
       "<transformers.tokenization_bert.WordpieceTokenizer at 0x7f4a869da810>"
      ]
     },
     "execution_count": 54,
     "metadata": {},
     "output_type": "execute_result"
    }
   ],
   "source": []
  },
  {
   "cell_type": "code",
   "execution_count": 36,
   "metadata": {},
   "outputs": [
    {
     "data": {
      "text/plain": [
       "{'input_ids': [2, 19017, 8482, 3], 'token_type_ids': [0, 0, 0, 0], 'attention_mask': [1, 1, 1, 1]}"
      ]
     },
     "execution_count": 36,
     "metadata": {},
     "output_type": "execute_result"
    }
   ],
   "source": [
    "tokenizer.encode_plus(\"안녕하세요\")"
   ]
  },
  {
   "cell_type": "code",
   "execution_count": 23,
   "metadata": {},
   "outputs": [
    {
     "data": {
      "text/plain": [
       "['[CLS]',\n",
       " '모두',\n",
       " '##연',\n",
       " '자연',\n",
       " '##어',\n",
       " '##처리',\n",
       " '##랩',\n",
       " '##에',\n",
       " '오신',\n",
       " '것을',\n",
       " '환영합니다',\n",
       " '.',\n",
       " '[SEP]']"
      ]
     },
     "execution_count": 23,
     "metadata": {},
     "output_type": "execute_result"
    }
   ],
   "source": [
    "tokenizer.convert_ids_to_tokens(encoded)\n",
    "tokenizer.convert_tokens_to_ids()"
   ]
  },
  {
   "cell_type": "code",
   "execution_count": null,
   "metadata": {},
   "outputs": [],
   "source": []
  }
 ],
 "metadata": {
  "kernelspec": {
   "display_name": "Python 3",
   "language": "python",
   "name": "python3"
  },
  "language_info": {
   "codemirror_mode": {
    "name": "ipython",
    "version": 3
   },
   "file_extension": ".py",
   "mimetype": "text/x-python",
   "name": "python",
   "nbconvert_exporter": "python",
   "pygments_lexer": "ipython3",
   "version": "3.7.7"
  }
 },
 "nbformat": 4,
 "nbformat_minor": 4
}
